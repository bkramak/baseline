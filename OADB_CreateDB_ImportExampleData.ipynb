{
 "cells": [
  {
   "cell_type": "markdown",
   "metadata": {},
   "source": [
    "creating the OADB database and importing the Engie public La Haute Borne  data to use in operational assessments."
   ]
  },
  {
   "cell_type": "code",
   "execution_count": 3,
   "metadata": {},
   "outputs": [],
   "source": [
    "conn.commit()"
   ]
  },
  {
   "cell_type": "code",
   "execution_count": 4,
   "metadata": {},
   "outputs": [],
   "source": [
    "import functions\n",
    "import os\n"
   ]
  },
  {
   "cell_type": "code",
   "execution_count": 5,
   "metadata": {},
   "outputs": [
    {
     "name": "stdin",
     "output_type": "stream",
     "text": [
      "enter dbname:  bk\n",
      "enter user:  bk\n"
     ]
    },
    {
     "name": "stdout",
     "output_type": "stream",
     "text": [
      "enter password: \n"
     ]
    },
    {
     "name": "stdin",
     "output_type": "stream",
     "text": [
      " ········\n"
     ]
    },
    {
     "name": "stdout",
     "output_type": "stream",
     "text": [
      "PostgreSQL 12.4 (Ubuntu 12.4-0ubuntu0.20.04.1) on x86_64-pc-linux-gnu, compiled by gcc (Ubuntu 9.3.0-10ubuntu2) 9.3.0, 64-bit\n"
     ]
    }
   ],
   "source": [
    "\n",
    "conn = functions.db_login_and_conn()\n",
    "\n",
    "cur=conn.cursor()\n",
    "cur.execute('select version()')\n",
    "print(cur.fetchone()[0])"
   ]
  },
  {
   "cell_type": "raw",
   "metadata": {},
   "source": [
    "\n",
    "This code uses sql files with the table definitions and insert statements to create the tables used, and then load the basic facility and turbine info into the OADB baseline database.\n"
   ]
  },
  {
   "cell_type": "code",
   "execution_count": null,
   "metadata": {},
   "outputs": [],
   "source": [
    "print('We are about to delete and rebuild all tables, if they exist.')\n",
    "print('if you loaded USGS data and made changes you are about to lose them.')\n",
    "response=input('Do you want to continue (y/n): ')\n",
    "if response !='y':\n",
    "    raise SystemExit(\"Stop right there!\")\n",
    "    "
   ]
  },
  {
   "cell_type": "code",
   "execution_count": null,
   "metadata": {},
   "outputs": [],
   "source": [
    "def list_files(directory, extension):\n",
    "    return (f for f in os.listdir(directory) if f.endswith(extension))\n",
    "\n",
    "fpath='OADB_JNB/sql/make_tables.sql'\n",
    "fd = open(fpath, 'r')\n",
    "sqlFile = fd.read()\n",
    "fd.close()\n",
    "sqlCommands = sqlFile.split(';')\n",
    "for command in sqlCommands:\n",
    "    #print(command)\n",
    "    if command.strip() != '':\n",
    "        cur.execute(command)\n",
    "\n",
    "conn.commit()"
   ]
  },
  {
   "cell_type": "markdown",
   "metadata": {},
   "source": [
    "The code above creates a basic normalized structure to store our facility (wind plant) and asset (wind turbine) data. We call them facilities and assets \n",
    "\n",
    "Like in the first M2 notebook, we will pull raw data into schema sandbox, so it doesn't interfere with production data."
   ]
  },
  {
   "cell_type": "code",
   "execution_count": null,
   "metadata": {},
   "outputs": [],
   "source": [
    "str_sql = \"SELECT exists(select schema_name FROM information_schema.schemata WHERE schema_name = 'sandbox');\"\n",
    "cur.execute(str_sql)\n",
    "conn.commit()\n",
    "schema_exists =cur.fetchone()[0]\n",
    "print(schema_exists)\n",
    "if schema_exists==False:\n",
    "    str_sql=\"create schema sandbox;\"\n",
    "    cur.execute(str_sql)\n",
    "    conn.commit()\n",
    "str_sql='select schema_name FROM information_schema.schemata;'\n",
    "cur.execute(str_sql)\n",
    "conn.commit()\n",
    "print(cur.fetchall())"
   ]
  },
  {
   "cell_type": "code",
   "execution_count": null,
   "metadata": {},
   "outputs": [],
   "source": []
  },
  {
   "cell_type": "code",
   "execution_count": null,
   "metadata": {},
   "outputs": [],
   "source": []
  },
  {
   "cell_type": "code",
   "execution_count": null,
   "metadata": {},
   "outputs": [],
   "source": []
  },
  {
   "cell_type": "code",
   "execution_count": null,
   "metadata": {},
   "outputs": [],
   "source": [
    "conn.commit()"
   ]
  }
 ],
 "metadata": {
  "kernelspec": {
   "display_name": "Python 3",
   "language": "python",
   "name": "python3"
  },
  "language_info": {
   "codemirror_mode": {
    "name": "ipython",
    "version": 3
   },
   "file_extension": ".py",
   "mimetype": "text/x-python",
   "name": "python",
   "nbconvert_exporter": "python",
   "pygments_lexer": "ipython3",
   "version": "3.8.2"
  }
 },
 "nbformat": 4,
 "nbformat_minor": 4
}
