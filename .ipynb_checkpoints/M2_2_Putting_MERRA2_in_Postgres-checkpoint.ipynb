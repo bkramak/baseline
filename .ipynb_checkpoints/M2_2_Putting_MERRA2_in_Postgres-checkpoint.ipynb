{
 "cells": [
  {
   "cell_type": "markdown",
   "metadata": {},
   "source": [
    "This code module picks up where the 00 module left off.  Data has been downloaded and the raw_data.csv file has been renamed to raw_data_lhbvlh_2014_2015.csv.\n",
    "\n",
    "We can check by looking at the directory Output/raw_data subdirectory. If you ran the code in 00 module, the file will be named raw_data.csv. the file posted to gitub and included in the example utility in the container is named raw_data_lhbvlh_2014_2015.csv.  First we'll load required packages and then check the raw_data directory to make sure the file we want is there.\n"
   ]
  },
  {
   "cell_type": "code",
   "execution_count": 1,
   "metadata": {},
   "outputs": [
    {
     "name": "stdout",
     "output_type": "stream",
     "text": [
      "/home/bk/baseline/M2_JNB/data\n",
      "total 12900\n",
      "drwxrwxr-x 4 bk bk     4096 Oct 26 08:59 ..\n",
      "drwxrwxr-x 2 bk bk     4096 Oct 25 19:40 .\n",
      "-rw-rw-r-- 1 bk bk 13199167 Oct 24 16:10 raw_data_lhbvlh_2014_2015.csv\n"
     ]
    }
   ],
   "source": [
    "import os\n",
    "import pandas as pd\n",
    "import pandas.io.sql as pdsqlio\n",
    "import psycopg2\n",
    "import getpass\n",
    "import re\n",
    "\n",
    "try:\n",
    "    os.chdir('M2_JNB/data')\n",
    "except:\n",
    "    print('no such directory')\n",
    "print(os.getcwd())\n",
    "\n",
    "\n",
    "! ls -lta # bash shell directory command\n"
   ]
  },
  {
   "cell_type": "markdown",
   "metadata": {},
   "source": [
    "We have data to import, so next we will connect to the database and do some setup work. We begin by building a connection to the postgres database.\n"
   ]
  },
  {
   "cell_type": "code",
   "execution_count": 2,
   "metadata": {},
   "outputs": [
    {
     "name": "stdin",
     "output_type": "stream",
     "text": [
      "enter dbname:  bk\n",
      "enter user:  bk\n"
     ]
    },
    {
     "name": "stdout",
     "output_type": "stream",
     "text": [
      "enter password: \n"
     ]
    },
    {
     "name": "stdin",
     "output_type": "stream",
     "text": [
      " ········\n"
     ]
    },
    {
     "name": "stdout",
     "output_type": "stream",
     "text": [
      "PostgreSQL 12.4 (Ubuntu 12.4-0ubuntu0.20.04.1) on x86_64-pc-linux-gnu, compiled by gcc (Ubuntu 9.3.0-10ubuntu2) 9.3.0, 64-bit\n"
     ]
    }
   ],
   "source": [
    "db=input('enter dbname: ')\n",
    "user=input('enter user: ')\n",
    "print('enter password: ')\n",
    "password=getpass.getpass()\n",
    "conn_str=\"host='localhost' dbname='\"+db+\"' user='\"+user+\"' password='\"+password+\"' options='-c search_path=sandbox,public'\"\n",
    "# the options allows us to add a schema called sandbox and be able to work in it\n",
    "conn=psycopg2.connect(conn_str)\n",
    "cur=conn.cursor()\n",
    "cur.execute('select version()')\n",
    "print(cur.fetchone()[0])"
   ]
  },
  {
   "cell_type": "markdown",
   "metadata": {},
   "source": [
    "We are connected to the database.  For importing raw data that will be manipulated into a final format, lets put it into a sandbox schema to keep it separate from our 'good' data.\n"
   ]
  },
  {
   "cell_type": "code",
   "execution_count": 3,
   "metadata": {},
   "outputs": [
    {
     "name": "stdout",
     "output_type": "stream",
     "text": [
      "True\n",
      "[('pg_toast',), ('pg_temp_1',), ('pg_toast_temp_1',), ('pg_catalog',), ('public',), ('information_schema',), ('sandbox',)]\n"
     ]
    }
   ],
   "source": [
    "str_sql = \"SELECT exists(select schema_name FROM information_schema.schemata WHERE schema_name = 'sandbox');\"\n",
    "cur.execute(str_sql)\n",
    "conn.commit()\n",
    "schema_exists =cur.fetchone()[0]\n",
    "print(schema_exists)\n",
    "if schema_exists==False:\n",
    "    str_sql=\"create schema sandbox;\"\n",
    "    cur.execute(str_sql)\n",
    "    conn.commit()\n",
    "str_sql='select schema_name FROM information_schema.schemata;'\n",
    "cur.execute(str_sql)\n",
    "conn.commit()\n",
    "print(cur.fetchall())\n"
   ]
  },
  {
   "cell_type": "markdown",
   "metadata": {},
   "source": [
    "Now that we have created or have confirmed the existance of the sandbox schema, we should be able to use it.\n"
   ]
  },
  {
   "cell_type": "code",
   "execution_count": 4,
   "metadata": {},
   "outputs": [
    {
     "name": "stdout",
     "output_type": "stream",
     "text": [
      "False\n",
      "[('George',), ('Jane',), ('Judy',), ('Elroy',), ('Astro',), ('Rosie',)]\n"
     ]
    }
   ],
   "source": [
    "str_sql = \"SELECT exists(select * FROM information_schema.tables WHERE table_schema = 'sandbox' and table_name = 'test');\"\n",
    "cur.execute(str_sql)\n",
    "conn.commit()\n",
    "table_exists =cur.fetchone()[0]\n",
    "print(table_exists)\n",
    "str_sql_drop = \"drop table sandbox.test;\"\n",
    "if table_exists==True:\n",
    "    cur.execute(str_sql_drop)\n",
    "\n",
    "str_sql = \"create table sandbox.test(name varchar(100), primary key(name));\"\n",
    "cur.execute(str_sql)\n",
    "str_sql = \"insert into sandbox.test(name) values('George');\"\n",
    "cur.execute(str_sql)\n",
    "str_sql = \"insert into sandbox.test(name) values('Jane');\"\n",
    "cur.execute(str_sql)\n",
    "str_sql = \"insert into sandbox.test(name) values('Judy');\"\n",
    "cur.execute(str_sql)\n",
    "str_sql = \"insert into sandbox.test(name) values('Elroy');\"\n",
    "cur.execute(str_sql)\n",
    "str_sql = \"insert into sandbox.test(name) values('Astro');\"\n",
    "cur.execute(str_sql)\n",
    "str_sql = \"insert into sandbox.test(name) values('Rosie');\"\n",
    "cur.execute(str_sql)\n",
    "conn.commit()\n",
    "\n",
    "str_sql = \"select * from sandbox.test;\"\n",
    "cur.execute(str_sql)\n",
    "conn.commit()\n",
    "print(cur.fetchall())\n"
   ]
  },
  {
   "cell_type": "markdown",
   "metadata": {},
   "source": [
    "Now that we've tested our connection string and can add tables to the sandbox schema, we can detlete the test table then pull in the MERRA2 data.\n"
   ]
  },
  {
   "cell_type": "code",
   "execution_count": 5,
   "metadata": {},
   "outputs": [],
   "source": [
    "cur.execute(str_sql_drop)\n",
    "conn.commit()"
   ]
  },
  {
   "cell_type": "markdown",
   "metadata": {},
   "source": [
    "There are cases where the file might be larger than the computer memory running this notebook. We will get just the first few rows to determine the file format."
   ]
  },
  {
   "cell_type": "code",
   "execution_count": 6,
   "metadata": {},
   "outputs": [
    {
     "name": "stdout",
     "output_type": "stream",
     "text": [
      "lat       float64\n",
      "lon       float64\n",
      "time       object\n",
      "H1000     float64\n",
      "H850      float64\n",
      "PBLTOP    float64\n",
      "PS        float64\n",
      "SLP       float64\n",
      "T10M      float64\n",
      "T2M       float64\n",
      "T2MDEW    float64\n",
      "T850      float64\n",
      "TS        float64\n",
      "U10M      float64\n",
      "U2M       float64\n",
      "U50M      float64\n",
      "V10M      float64\n",
      "V2M       float64\n",
      "V50M      float64\n",
      "dtype: object\n"
     ]
    }
   ],
   "source": [
    "fname='raw_data_lhbvlh_2014_2015.csv'\n",
    "if os.path.isfile(fname):\n",
    "    data = pd.read_csv(fname, nrows=50)\n",
    "else:\n",
    "    raise SystemExit(\"Stop right there!\")\n",
    "    \n",
    "x=data.dtypes\n",
    "print(x)"
   ]
  },
  {
   "cell_type": "markdown",
   "metadata": {},
   "source": [
    "As noted in the 00 file, the MERRA2 data is fully described in https://gmao.gsfc.nasa.gov/pubs/docs/Bosilovich785.pdf. \n",
    "\n",
    "We can use the dtypes to create a table in our postgres database. \n"
   ]
  },
  {
   "cell_type": "code",
   "execution_count": 7,
   "metadata": {},
   "outputs": [
    {
     "name": "stdout",
     "output_type": "stream",
     "text": [
      "raw_data_lhbvlh_2014_2015.csv\n"
     ]
    }
   ],
   "source": [
    "print(fname)"
   ]
  },
  {
   "cell_type": "code",
   "execution_count": 8,
   "metadata": {},
   "outputs": [
    {
     "data": {
      "text/plain": [
       "['deleted and replaced',\n",
       " 'CREATE TABLE raw_data_lhbvlh_2014_2015 (lat real, lon real, time timestamp, H1000 real, H850 real, PBLTOP real, PS real, SLP real, T10M real, T2M real, T2MDEW real, T850 real, TS real, U10M real, U2M real, U50M real, V10M real, V2M real, V50M real);']"
      ]
     },
     "execution_count": 8,
     "metadata": {},
     "output_type": "execute_result"
    }
   ],
   "source": [
    "# note this is strictly a drop and replace, it will not append data as written\n",
    "def maketable(fname):\n",
    "    type_map={'float64':'real',\n",
    "          'int64':'bigint',\n",
    "          'object':'timestamp'}\n",
    "    newtablename=re.sub('.csv','',fname,flags=re.I)\n",
    "    cur.execute(\"SELECT EXISTS(SELECT * FROM information_schema.tables \"+\n",
    "                \"WHERE table_schema = 'sandbox' AND table_name = '\"+newtablename+\"');\")\n",
    "    if cur.fetchone()[0]:\n",
    "        cur.execute(\"DROP TABLE \"+newtablename+';')\n",
    "        conn.commit()\n",
    "        msg='deleted and replaced'\n",
    "    else:\n",
    "        msg='created new'\n",
    "    data = pd.read_csv(fname,nrows=50)\n",
    "    types=data.dtypes\n",
    "    str_sql='CREATE TABLE '+newtablename+' ('\n",
    "    len_x=len(data.columns.tolist())\n",
    "    for x in data.columns.tolist():\n",
    "        str_sql=str_sql+x+' '+  type_map[str(types[x])]\n",
    "        if(x!=data.columns.tolist()[len_x-1]):\n",
    "            str_sql=str_sql + ', '\n",
    "        else :\n",
    "            str_sql=str_sql+ ');'\n",
    "    cur.execute(str_sql)\n",
    "    conn.commit()\n",
    "    return [msg,str_sql]  \n",
    "\n",
    "maketable(fname)\n"
   ]
  },
  {
   "cell_type": "markdown",
   "metadata": {},
   "source": [
    "The table has been created based on the structure of the data, so no we can import the csv directly into the database.\n"
   ]
  },
  {
   "cell_type": "code",
   "execution_count": 9,
   "metadata": {},
   "outputs": [],
   "source": [
    "tablename=re.sub('.csv','',fname,flags=re.I)\n",
    "f=open(fname)\n",
    "cur.copy_expert(\"copy sandbox.\"+tablename+\" from STDOUT delimiter ',' csv header\",f)\n",
    "conn.commit()\n",
    "cur.close()"
   ]
  },
  {
   "cell_type": "markdown",
   "metadata": {},
   "source": [
    "Now that the data is in the database, we can pull what we want into pandas, or continue working with data in teh database and doing data wrangling and munging directly with sql.\n",
    "\n",
    "Here's an example of pullin data into pandas using its ability to read sql.\n"
   ]
  },
  {
   "cell_type": "code",
   "execution_count": 10,
   "metadata": {},
   "outputs": [
    {
     "data": {
      "text/html": [
       "<div>\n",
       "<style scoped>\n",
       "    .dataframe tbody tr th:only-of-type {\n",
       "        vertical-align: middle;\n",
       "    }\n",
       "\n",
       "    .dataframe tbody tr th {\n",
       "        vertical-align: top;\n",
       "    }\n",
       "\n",
       "    .dataframe thead th {\n",
       "        text-align: right;\n",
       "    }\n",
       "</style>\n",
       "<table border=\"1\" class=\"dataframe\">\n",
       "  <thead>\n",
       "    <tr style=\"text-align: right;\">\n",
       "      <th></th>\n",
       "      <th>lat</th>\n",
       "      <th>lon</th>\n",
       "      <th>time</th>\n",
       "      <th>h1000</th>\n",
       "      <th>h850</th>\n",
       "      <th>pbltop</th>\n",
       "      <th>ps</th>\n",
       "      <th>slp</th>\n",
       "      <th>t10m</th>\n",
       "      <th>t2m</th>\n",
       "      <th>t2mdew</th>\n",
       "      <th>t850</th>\n",
       "      <th>ts</th>\n",
       "      <th>u10m</th>\n",
       "      <th>u2m</th>\n",
       "      <th>u50m</th>\n",
       "      <th>v10m</th>\n",
       "      <th>v2m</th>\n",
       "      <th>v50m</th>\n",
       "    </tr>\n",
       "  </thead>\n",
       "  <tbody>\n",
       "    <tr>\n",
       "      <th>0</th>\n",
       "      <td>48.0</td>\n",
       "      <td>5.0</td>\n",
       "      <td>2015-06-30 00:30:00</td>\n",
       "      <td>174.72054</td>\n",
       "      <td>1569.6932</td>\n",
       "      <td>97582.89</td>\n",
       "      <td>98326.340</td>\n",
       "      <td>102010.190</td>\n",
       "      <td>289.60745</td>\n",
       "      <td>288.23163</td>\n",
       "      <td>285.75446</td>\n",
       "      <td>287.75470</td>\n",
       "      <td>287.01468</td>\n",
       "      <td>-2.732120</td>\n",
       "      <td>-1.240577</td>\n",
       "      <td>-5.883302</td>\n",
       "      <td>-1.039190</td>\n",
       "      <td>-0.465315</td>\n",
       "      <td>-2.214216</td>\n",
       "    </tr>\n",
       "    <tr>\n",
       "      <th>1</th>\n",
       "      <td>48.0</td>\n",
       "      <td>5.0</td>\n",
       "      <td>2015-06-30 01:30:00</td>\n",
       "      <td>172.26204</td>\n",
       "      <td>1566.8104</td>\n",
       "      <td>97558.90</td>\n",
       "      <td>98299.180</td>\n",
       "      <td>101982.320</td>\n",
       "      <td>289.08398</td>\n",
       "      <td>287.65580</td>\n",
       "      <td>285.25840</td>\n",
       "      <td>287.75930</td>\n",
       "      <td>286.44750</td>\n",
       "      <td>-2.853620</td>\n",
       "      <td>-1.276578</td>\n",
       "      <td>-6.057842</td>\n",
       "      <td>-0.621774</td>\n",
       "      <td>-0.271498</td>\n",
       "      <td>-1.292917</td>\n",
       "    </tr>\n",
       "    <tr>\n",
       "      <th>2</th>\n",
       "      <td>48.0</td>\n",
       "      <td>5.0</td>\n",
       "      <td>2015-06-30 02:30:00</td>\n",
       "      <td>170.42476</td>\n",
       "      <td>1564.7650</td>\n",
       "      <td>97539.94</td>\n",
       "      <td>98278.734</td>\n",
       "      <td>101960.875</td>\n",
       "      <td>288.63873</td>\n",
       "      <td>287.17280</td>\n",
       "      <td>284.87598</td>\n",
       "      <td>287.67300</td>\n",
       "      <td>285.96463</td>\n",
       "      <td>-2.902170</td>\n",
       "      <td>-1.280110</td>\n",
       "      <td>-6.082373</td>\n",
       "      <td>-0.274003</td>\n",
       "      <td>-0.115914</td>\n",
       "      <td>-0.552742</td>\n",
       "    </tr>\n",
       "    <tr>\n",
       "      <th>3</th>\n",
       "      <td>48.0</td>\n",
       "      <td>5.0</td>\n",
       "      <td>2015-06-30 03:30:00</td>\n",
       "      <td>169.84496</td>\n",
       "      <td>1563.7583</td>\n",
       "      <td>97535.26</td>\n",
       "      <td>98273.610</td>\n",
       "      <td>101954.734</td>\n",
       "      <td>288.12305</td>\n",
       "      <td>286.68875</td>\n",
       "      <td>284.58414</td>\n",
       "      <td>287.60474</td>\n",
       "      <td>285.54578</td>\n",
       "      <td>-2.865928</td>\n",
       "      <td>-1.252510</td>\n",
       "      <td>-5.957701</td>\n",
       "      <td>-0.065182</td>\n",
       "      <td>-0.024377</td>\n",
       "      <td>-0.117637</td>\n",
       "    </tr>\n",
       "    <tr>\n",
       "      <th>4</th>\n",
       "      <td>48.0</td>\n",
       "      <td>5.0</td>\n",
       "      <td>2015-06-30 04:30:00</td>\n",
       "      <td>170.25699</td>\n",
       "      <td>1563.7440</td>\n",
       "      <td>97541.91</td>\n",
       "      <td>98276.055</td>\n",
       "      <td>101958.875</td>\n",
       "      <td>288.37375</td>\n",
       "      <td>287.64316</td>\n",
       "      <td>285.25012</td>\n",
       "      <td>287.57114</td>\n",
       "      <td>287.26398</td>\n",
       "      <td>-2.613574</td>\n",
       "      <td>-1.346419</td>\n",
       "      <td>-5.817614</td>\n",
       "      <td>0.062035</td>\n",
       "      <td>0.035123</td>\n",
       "      <td>0.142819</td>\n",
       "    </tr>\n",
       "  </tbody>\n",
       "</table>\n",
       "</div>"
      ],
      "text/plain": [
       "    lat  lon                time      h1000       h850    pbltop         ps  \\\n",
       "0  48.0  5.0 2015-06-30 00:30:00  174.72054  1569.6932  97582.89  98326.340   \n",
       "1  48.0  5.0 2015-06-30 01:30:00  172.26204  1566.8104  97558.90  98299.180   \n",
       "2  48.0  5.0 2015-06-30 02:30:00  170.42476  1564.7650  97539.94  98278.734   \n",
       "3  48.0  5.0 2015-06-30 03:30:00  169.84496  1563.7583  97535.26  98273.610   \n",
       "4  48.0  5.0 2015-06-30 04:30:00  170.25699  1563.7440  97541.91  98276.055   \n",
       "\n",
       "          slp       t10m        t2m     t2mdew       t850         ts  \\\n",
       "0  102010.190  289.60745  288.23163  285.75446  287.75470  287.01468   \n",
       "1  101982.320  289.08398  287.65580  285.25840  287.75930  286.44750   \n",
       "2  101960.875  288.63873  287.17280  284.87598  287.67300  285.96463   \n",
       "3  101954.734  288.12305  286.68875  284.58414  287.60474  285.54578   \n",
       "4  101958.875  288.37375  287.64316  285.25012  287.57114  287.26398   \n",
       "\n",
       "       u10m       u2m      u50m      v10m       v2m      v50m  \n",
       "0 -2.732120 -1.240577 -5.883302 -1.039190 -0.465315 -2.214216  \n",
       "1 -2.853620 -1.276578 -6.057842 -0.621774 -0.271498 -1.292917  \n",
       "2 -2.902170 -1.280110 -6.082373 -0.274003 -0.115914 -0.552742  \n",
       "3 -2.865928 -1.252510 -5.957701 -0.065182 -0.024377 -0.117637  \n",
       "4 -2.613574 -1.346419 -5.817614  0.062035  0.035123  0.142819  "
      ]
     },
     "execution_count": 10,
     "metadata": {},
     "output_type": "execute_result"
    }
   ],
   "source": [
    "str_sql = \"select * from sandbox.\"+tablename+\" limit 5;\"\n",
    "data=pdsqlio.read_sql_query(str_sql,conn)\n",
    "data"
   ]
  },
  {
   "cell_type": "code",
   "execution_count": null,
   "metadata": {},
   "outputs": [],
   "source": []
  }
 ],
 "metadata": {
  "kernelspec": {
   "display_name": "Python 3",
   "language": "python",
   "name": "python3"
  },
  "language_info": {
   "codemirror_mode": {
    "name": "ipython",
    "version": 3
   },
   "file_extension": ".py",
   "mimetype": "text/x-python",
   "name": "python",
   "nbconvert_exporter": "python",
   "pygments_lexer": "ipython3",
   "version": "3.8.2"
  }
 },
 "nbformat": 4,
 "nbformat_minor": 4
}
