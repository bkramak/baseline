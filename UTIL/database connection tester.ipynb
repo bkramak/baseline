{
 "cells": [
  {
   "cell_type": "markdown",
   "metadata": {},
   "source": [
    "Here's the basic way to connect to postgres with psycopg2.\n",
    "\n",
    "use postgresondocker  at the prompt for db, username, and password to begin with. "
   ]
  },
  {
   "cell_type": "code",
   "execution_count": 3,
   "metadata": {},
   "outputs": [],
   "source": [
    "import psycopg2\n",
    "import getpass\n",
    "\n",
    "# logging into db\n",
    "\n",
    "def db_login_and_conn():\n",
    "    db=input('enter dbname: ')\n",
    "    user=input('enter user: ')\n",
    "    print('enter password: ')\n",
    "    password=getpass.getpass()\n",
    "    conn_str=\"host='localhost' dbname='\"+db+\"' user='\"+user+\"' password='\"+password+\"' \\\n",
    "    options='-c search_path=sandbox,public'\"\n",
    "    # the options allows us to add a schema called sandbox and be able to work in it.\n",
    "    # because sandbox is first, tables will be created there if schema isn't specified.\n",
    "    conn=psycopg2.connect(conn_str)\n",
    "    return conn\n",
    "    "
   ]
  },
  {
   "cell_type": "code",
   "execution_count": 4,
   "metadata": {},
   "outputs": [
    {
     "name": "stdout",
     "output_type": "stream",
     "text": [
      "\n",
      "use postgresondocker at prompt for db,username,password\n",
      "\n"
     ]
    },
    {
     "name": "stdin",
     "output_type": "stream",
     "text": [
      "enter dbname:  postgresondocker\n",
      "enter user:  postgresondocker\n"
     ]
    },
    {
     "name": "stdout",
     "output_type": "stream",
     "text": [
      "enter password: \n"
     ]
    },
    {
     "name": "stdin",
     "output_type": "stream",
     "text": [
      " ················\n"
     ]
    },
    {
     "name": "stdout",
     "output_type": "stream",
     "text": [
      "PostgreSQL 9.3.17 on x86_64-unknown-linux-gnu, compiled by gcc (Ubuntu/Linaro 4.6.3-1ubuntu5) 4.6.3, 64-bit\n"
     ]
    }
   ],
   "source": [
    "print('\\nuse postgresondocker at prompt for db,username,password\\n')\n",
    "conn = db_login_and_conn() # get database, username, password\n",
    "\n",
    "cur=conn.cursor()\n",
    "cur.execute('select version()')\n",
    "print(cur.fetchone()[0])"
   ]
  },
  {
   "cell_type": "code",
   "execution_count": 5,
   "metadata": {},
   "outputs": [],
   "source": [
    "# if code errors out, uncomment next line and run a commit so you can keep running code\n",
    "# conn.commit()"
   ]
  },
  {
   "cell_type": "code",
   "execution_count": 6,
   "metadata": {},
   "outputs": [
    {
     "name": "stdout",
     "output_type": "stream",
     "text": [
      "list of all schemas before attempting to add sandbox:\n",
      "[('pg_toast',), ('pg_temp_1',), ('pg_toast_temp_1',), ('pg_catalog',), ('public',), ('information_schema',), ('sandbox',)]\n"
     ]
    }
   ],
   "source": [
    "str_sql = \"SELECT schema_name FROM information_schema.schemata;\"\n",
    "cur.execute(str_sql)\n",
    "conn.commit()\n",
    "schemas =cur.fetchall()\n",
    "print('list of all schemas before attempting to add sandbox:')\n",
    "print(schemas)"
   ]
  },
  {
   "cell_type": "code",
   "execution_count": 7,
   "metadata": {},
   "outputs": [
    {
     "name": "stdout",
     "output_type": "stream",
     "text": [
      "list of all schemas after adding sandbox:\n",
      "[('pg_toast',), ('pg_temp_1',), ('pg_toast_temp_1',), ('pg_catalog',), ('public',), ('information_schema',), ('sandbox',)]\n"
     ]
    }
   ],
   "source": [
    "\n",
    "str_sql='CREATE SCHEMA IF NOT EXISTS sandbox;'\n",
    "cur.execute(str_sql)\n",
    "conn.commit()\n",
    "\n",
    "str_sql = \"SELECT schema_name FROM information_schema.schemata;\"\n",
    "cur.execute(str_sql)\n",
    "conn.commit()\n",
    "schemas =cur.fetchall()\n",
    "print('list of all schemas after adding sandbox:')\n",
    "print(schemas)\n"
   ]
  },
  {
   "cell_type": "code",
   "execution_count": 8,
   "metadata": {},
   "outputs": [
    {
     "name": "stdout",
     "output_type": "stream",
     "text": [
      "list of all tables in schema sandbox before adding test:\n",
      "[]\n",
      "list of all tables in schema sandbox after adding test:\n",
      "[('test',)]\n"
     ]
    }
   ],
   "source": [
    "\n",
    "str_sql = \"SELECT table_name FROM information_schema.tables where table_schema='sandbox' AND table_type='BASE TABLE';\"\n",
    "cur.execute(str_sql)\n",
    "conn.commit()\n",
    "schemas =cur.fetchall()\n",
    "print('list of all tables in schema sandbox before adding test:')\n",
    "print(schemas)\n",
    "\n",
    "\n",
    "str_sql='CREATE TABLE IF NOT EXISTS sandbox.test(message varchar(50));'\n",
    "cur.execute(str_sql)\n",
    "\n",
    "str_sql = \"SELECT table_name FROM information_schema.tables WHERE table_schema='sandbox' AND table_type='BASE TABLE';\"\n",
    "cur.execute(str_sql)\n",
    "conn.commit()\n",
    "schemas =cur.fetchall()\n",
    "print('list of all tables in schema sandbox after adding test:')\n",
    "print(schemas)\n",
    "\n"
   ]
  },
  {
   "cell_type": "code",
   "execution_count": 9,
   "metadata": {},
   "outputs": [
    {
     "name": "stdout",
     "output_type": "stream",
     "text": [
      "data in table test\n",
      "[('bk was here',), ('you can be too!',)]\n",
      "[]\n"
     ]
    }
   ],
   "source": [
    "\n",
    "str_sql=\"INSERT INTO sandbox.test(message) VALUES('bk was here');\"\n",
    "cur.execute(str_sql)\n",
    "str_sql=\"INSERT INTO sandbox.test(message) VALUES('you can be too!');\"\n",
    "cur.execute(str_sql)\n",
    "\n",
    "str_sql='SELECT * FROM sandbox.test;'\n",
    "cur.execute(str_sql)\n",
    "print('data in table test')\n",
    "print(cur.fetchall())\n",
    "print(cur.fetchall())\n",
    "conn.commit()\n"
   ]
  },
  {
   "cell_type": "code",
   "execution_count": 10,
   "metadata": {},
   "outputs": [
    {
     "name": "stdout",
     "output_type": "stream",
     "text": [
      "list of all tables after dropping test:\n",
      "[]\n"
     ]
    }
   ],
   "source": [
    "\n",
    "str_sql=\"DROP TABLE sandbox.test;\"\n",
    "cur.execute(str_sql)\n",
    "conn.commit()\n",
    "\n",
    "\n",
    "str_sql = \"SELECT table_name FROM information_schema.tables WHERE table_schema='sandbox' AND table_type='BASE TABLE';\"\n",
    "cur.execute(str_sql)\n",
    "conn.commit()\n",
    "schemas =cur.fetchall()\n",
    "print('list of all tables after dropping test:')\n",
    "print(schemas)\n"
   ]
  },
  {
   "cell_type": "code",
   "execution_count": 11,
   "metadata": {},
   "outputs": [
    {
     "name": "stdout",
     "output_type": "stream",
     "text": [
      "[('template1',), ('template0',), ('postgres',), ('postgresondocker',), ('flit',)]\n"
     ]
    }
   ],
   "source": [
    "# get a list of databases\n",
    "str_sql='select datname from pg_database;'\n",
    "cur.execute(str_sql)\n",
    "print(cur.fetchall())\n",
    "conn.commit()\n"
   ]
  },
  {
   "cell_type": "code",
   "execution_count": 12,
   "metadata": {},
   "outputs": [
    {
     "name": "stdout",
     "output_type": "stream",
     "text": [
      "[('template1',), ('template0',), ('postgres',), ('postgresondocker',), ('flit',), ('testdb',)]\n"
     ]
    }
   ],
   "source": [
    "# create a new database\n",
    "conn.autocommit=True # create db can't run in a transaction\n",
    "cur = conn.cursor()\n",
    "str_sql='CREATE DATABASE testdb;'\n",
    "cur.execute(str_sql)\n",
    "\n",
    "str_sql='select datname from pg_database;'\n",
    "cur.execute(str_sql)\n",
    "print(cur.fetchall())\n",
    "conn.commit()\n"
   ]
  },
  {
   "cell_type": "code",
   "execution_count": 13,
   "metadata": {},
   "outputs": [
    {
     "name": "stdout",
     "output_type": "stream",
     "text": [
      "[('template1',), ('template0',), ('postgres',), ('postgresondocker',), ('flit',)]\n"
     ]
    }
   ],
   "source": [
    "str_sql='DROP DATABASE testdb;'\n",
    "cur.execute(str_sql)\n",
    "\n",
    "str_sql='select datname from pg_database;'\n",
    "cur.execute(str_sql)\n",
    "\n",
    "print(cur.fetchall())"
   ]
  },
  {
   "cell_type": "code",
   "execution_count": 22,
   "metadata": {},
   "outputs": [
    {
     "name": "stdout",
     "output_type": "stream",
     "text": [
      "users\n",
      "[('postgres',), ('postgresondocker',), ('bk',), ('flit',)]\n"
     ]
    }
   ],
   "source": [
    "str_sql=\"CREATE USER flit WITH PASSWORD 'flit' CREATEDB;\"\n",
    "cur.execute(str_sql)\n",
    "str_sql='CREATE DATABASE flit;'\n",
    "cur.execute(str_sql)\n",
    "str_sql='GRANT ALL ON DATABASE flit TO flit;'\n",
    "cur.execute(str_sql)\n",
    "\n",
    "\n",
    "print('users')\n",
    "str_sql='select usename from pg_user;'\n",
    "cur.execute(str_sql)\n",
    "print(cur.fetchall())\n"
   ]
  },
  {
   "cell_type": "markdown",
   "metadata": {},
   "source": [
    "We have a new user with createdb permission, we can close and reopen the connection with the new user name."
   ]
  },
  {
   "cell_type": "code",
   "execution_count": 23,
   "metadata": {},
   "outputs": [
    {
     "name": "stdin",
     "output_type": "stream",
     "text": [
      "enter dbname:  flit\n",
      "enter user:  flit\n"
     ]
    },
    {
     "name": "stdout",
     "output_type": "stream",
     "text": [
      "enter password: \n"
     ]
    },
    {
     "name": "stdin",
     "output_type": "stream",
     "text": [
      " ····\n"
     ]
    },
    {
     "name": "stdout",
     "output_type": "stream",
     "text": [
      "PostgreSQL 9.3.17 on x86_64-unknown-linux-gnu, compiled by gcc (Ubuntu/Linaro 4.6.3-1ubuntu5) 4.6.3, 64-bit\n"
     ]
    }
   ],
   "source": [
    "conn = db_login_and_conn() # get database, username, password\n",
    "cur=conn.cursor()\n",
    "cur.execute('select version()')\n",
    "print(cur.fetchone()[0])"
   ]
  },
  {
   "cell_type": "code",
   "execution_count": 24,
   "metadata": {},
   "outputs": [
    {
     "name": "stdout",
     "output_type": "stream",
     "text": [
      "data in table test\n",
      "[('flit was here',), ('you can be too!',)]\n"
     ]
    }
   ],
   "source": [
    "str_sql='CREATE SCHEMA IF NOT EXISTS sandbox;'\n",
    "cur.execute(str_sql)\n",
    "str_sql='CREATE TABLE IF NOT EXISTS sandbox.test(message varchar(50));'\n",
    "cur.execute(str_sql)\n",
    "str_sql=\"INSERT INTO sandbox.test(message) VALUES('flit was here');\"\n",
    "cur.execute(str_sql)\n",
    "str_sql=\"INSERT INTO sandbox.test(message) VALUES('you can be too!');\"\n",
    "cur.execute(str_sql)\n",
    "str_sql='SELECT * FROM sandbox.test;'\n",
    "cur.execute(str_sql)\n",
    "print('data in table test')\n",
    "print(cur.fetchall())\n",
    "conn.commit()\n"
   ]
  },
  {
   "cell_type": "code",
   "execution_count": 25,
   "metadata": {},
   "outputs": [],
   "source": [
    "conn.close()"
   ]
  }
 ],
 "metadata": {
  "kernelspec": {
   "display_name": "Python 3",
   "language": "python",
   "name": "python3"
  },
  "language_info": {
   "codemirror_mode": {
    "name": "ipython",
    "version": 3
   },
   "file_extension": ".py",
   "mimetype": "text/x-python",
   "name": "python",
   "nbconvert_exporter": "python",
   "pygments_lexer": "ipython3",
   "version": "3.7.6"
  }
 },
 "nbformat": 4,
 "nbformat_minor": 4
}
